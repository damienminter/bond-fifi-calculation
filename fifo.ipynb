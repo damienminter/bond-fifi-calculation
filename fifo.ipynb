
# Import Sample Data
transactions = pd.read_csv("bonds_fifo_transactions.csv")
transactions['EXECUTION_TIMESTAMP'] = pd.to_datetime(transactions['EXECUTION_TIMESTAMP'])

# Add addtional columns to datafram
transactions['REMAINDER'] = transactions['POSITION']
transactions['STATE'] = 'OPEN'
transactions['BUY_TRADE_ID'] = None

# Create list of dictionalries for Buys and Sells
buys = transactions[transactions['EVENT'] == 'BUY'][['EXECUTION_TIMESTAMP', 'EVENT', 'TRADE_ID', 'POSITION', 'REMAINDER', 'STATE']].to_dict('records')

sells = transactions[transactions['EVENT'] == 'SELL'][['EXECUTION_TIMESTAMP', 'EVENT', 'TRADE_ID', 'POSITION', 'REMAINDER', 'STATE']].to_dict('records')

# Create empty list to store results
results = []

#  Iterate through the list of sell to find which buy they relate to using remainder field to proportionally allocate trades
for sell in sells:
    
    for buy in buys:
        
        if buy['STATE'] == 'OPEN':
            if sell['STATE'] == 'OPEN':
                if sell['REMAINDER'] <= buy['REMAINDER']:
                    buy['REMAINDER'] = buy['REMAINDER'] - sell['REMAINDER']
                    if buy['REMAINDER'] <= 0:
                        buy['STATE'] = 'CLOSED' 
                        buy['REMAINDER'] = 0
                    sell['REMAINDER'] = 0
                    sell['STATE'] = 'CLOSED'
                elif sell['REMAINDER'] > buy['REMAINDER']:
                    
                    sell_remainder = sell['REMAINDER']
                    sell['REMAINDER'] = sell['REMAINDER'] - buy['REMAINDER']
                    buy['REMAINDER'] = buy['REMAINDER'] - sell_remainder  
                   
                    if buy['REMAINDER'] <= 0:
                        buy['STATE'] = 'CLOSED'
                        buy['REMAINDER'] = 0

                else:
                    print('Not a valid trade')

                # Append results to list 
                results.append(['BUY', buy['TRADE_ID'], buy['POSITION'], buy['REMAINDER'], buy['STATE'], 'SELL', sell['TRADE_ID'], sell['POSITION'], sell['REMAINDER'], sell['STATE']])              
                
# Create empty dataframe from list 
fifo_df = pd.DataFrame(results, columns=['BUY', 'B_TRADE_ID', 'B_POSITION', 'B_REMAINDER', 'B_STATE', 'SELL', 'S_TRADE_ID', 'S_POSITION', 'S_REMAINDER', 'S_STATE'])       

# Display dataframe 
fifo_df
          


